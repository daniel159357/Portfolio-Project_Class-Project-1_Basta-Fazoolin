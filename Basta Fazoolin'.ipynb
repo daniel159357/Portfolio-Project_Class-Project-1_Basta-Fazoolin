{
  "metadata": {
    "language_info": {
      "codemirror_mode": {
        "name": "python",
        "version": 3
      },
      "file_extension": ".py",
      "mimetype": "text/x-python",
      "name": "python",
      "nbconvert_exporter": "python",
      "pygments_lexer": "ipython3",
      "version": "3.8"
    },
    "kernelspec": {
      "name": "python",
      "display_name": "Python (Pyodide)",
      "language": "python"
    }
  },
  "nbformat_minor": 4,
  "nbformat": 4,
  "cells": [
    {
      "cell_type": "markdown",
      "source": "# Basta Fazoolin'\nYou’ve started a position as the lead programmer for the family-style Italian restaurant Basta Fazoolin’ with My Heart. The restaurant has been doing fantastically and seen a lot of growth lately. You’ve been hired to keep things organized.\n\nIn this project, creating Classes and methods, string representation, instantiation of classes and testing methods are demonstrated.",
      "metadata": {}
    },
    {
      "cell_type": "code",
      "source": "# Making the Menus\nclass Menu: #To define Menu with 4 parameters\n  def __init__(self,name,items,start_time,end_time):\n    self.name = name\n    self.items = items\n    self.start_time = start_time\n    self.end_time = end_time\n  def __repr__(self): #for printing the string presentation\n    return self.name + \" is available from \" + str(self.start_time) +\" to \"+ str(self.end_time)\n  def calculate_bill(self,purchased_items):\n    bill = 0\n    for i in purchased_items:\n      if i in self.items: #only count the i in the list stored, the new item outside the existing menu list cannot be summed and alerted. Another problem is that the name of inputted item should be exact the same in the list stored\n        bill += self.items[i]\n    return bill\n",
      "metadata": {
        "trusted": true
      },
      "execution_count": 1,
      "outputs": []
    },
    {
      "cell_type": "code",
      "source": "#Menu item\nbrunch_items={'pancakes': 7.50, 'waffles': 9.00, 'burger': 11.00,'home fries': 4.50, 'coffee': 1.50, 'espresso': 3.00, 'tea': 1.00, 'mimosa': 10.50, 'orange juice': 3.50}\n\nearly_bird_items={'salumeria plate': 8.00, 'salad and breadsticks (serves 2, no refills)': 14.00, 'pizza with quattro formaggi': 9.00, 'duck ragu': 17.50, 'mushroom ravioli (vegan)': 13.50, 'coffee': 1.50, 'espresso': 3.00}\n\ndinner_items={'crostini with eggplant caponata': 13.00, 'caesar salad': 16.00, 'pizza with quattro formaggi': 11.00, 'duck ragu': 19.50, 'mushroom ravioli (vegan)': 13.50, 'coffee': 2.00, 'espresso': 3.00}\n\nkids_items={'chicken nuggets': 6.50, 'fusilli with wild mushrooms': 12.00, 'apple juice': 3.00}\n\n#instantiation of each menu\nbrunch = Menu(name=\"Brunch\", items=brunch_items , start_time=1100, end_time=1600)\n\nearly_bird = Menu(name=\"Early-bird Dinners\", items=early_bird_items , start_time=1500, end_time=1800)\n\ndinner= Menu(\"Dinner Menu\",dinner_items,1700,2300)\n\nkids=Menu(\"Kids Menu\",kids_items,1100,2100)",
      "metadata": {
        "trusted": true
      },
      "execution_count": 2,
      "outputs": []
    },
    {
      "cell_type": "code",
      "source": "#testing the string representation and calculation\nprint(kids)\nprint(\"the bill total for brunch is:\", brunch.calculate_bill(['pancakes', 'home fries', 'coffee']))\nprint(\"the bill total for early bird is:\", early_bird.calculate_bill(['salumeria plate', 'mushroom ravioli (vegan)']))",
      "metadata": {
        "trusted": true
      },
      "execution_count": 3,
      "outputs": [
        {
          "name": "stdout",
          "text": "Kids Menu is available from 1100 to 2100\nthe bill total for brunch is: 13.5\nthe bill total for early bird is: 21.5\n",
          "output_type": "stream"
        }
      ]
    },
    {
      "cell_type": "code",
      "source": "# Creating the Franchises\nclass Franchise:\n  def __init__(self, address, menus):\n    self.address = address\n    self.menus = menus # to be used as a list of menu above\n  def __repr__(self):\n    return \"The address is at \" + str(self.address) +\".\"\n  def available_menus(self, time):\n    available_menu = []\n    for i in self.menus: #as menus is designed in a list as input\n      if time >= i.start_time and time <= i.end_time: # filtering the time between start_time and end_time\n        available_menu.append(i)\n    return available_menu",
      "metadata": {
        "trusted": true
      },
      "execution_count": 11,
      "outputs": []
    },
    {
      "cell_type": "code",
      "source": "# Group the menus into a list\nmenus = [brunch, early_bird, dinner, kids]\n\n# instantiation of Franchise with parameters\nflagship_store = Franchise(address=\"1232 West End Road\", menus=menus)\nnew_installment = Franchise(address=\"12 East Mulberry Street\", menus=menus)",
      "metadata": {
        "trusted": true
      },
      "execution_count": 13,
      "outputs": []
    },
    {
      "cell_type": "code",
      "source": "# test the string representation\nprint(flagship_store)\n\n# test .available_menus() method\nprint(flagship_store.available_menus(time=1200))\nprint(flagship_store.available_menus(time=1700))",
      "metadata": {
        "trusted": true
      },
      "execution_count": 14,
      "outputs": [
        {
          "name": "stdout",
          "text": "The address is at 1232 West End Road.\n[Brunch is available from 1100 to 1600, Kids Menu is available from 1100 to 2100]\n[Early-bird Dinners is available from 1500 to 1800, Dinner Menu is available from 1700 to 2300, Kids Menu is available from 1100 to 2100]\n",
          "output_type": "stream"
        }
      ]
    },
    {
      "cell_type": "code",
      "source": "# Group the franchises into a list\nfranchises = [flagship_store, new_installment]\n\n# Creating Businesses as Class\nclass Business:\n  def __init__(self, name, franchises):\n    self.name = name\n    self.franchises = franchises\n    \n# creating a new menu for the Business\narepas_item = {'arepa pabellon': 7.00, 'pernil arepa': 8.50, 'guayanes arepa': 8.00, 'jamon arepa': 7.50}",
      "metadata": {
        "trusted": true
      },
      "execution_count": 15,
      "outputs": []
    },
    {
      "cell_type": "code",
      "source": "# create Menu variable\narepas_menu = Menu(\"Take a' Arepa\", arepas_item, 1000,2000)\n# create Franchise variablee\narepas_place = Franchise(address=\"189 Fitzgerald Avenue\", menus=arepas_menu)\n# create Business\nbasta = Business(name = \"Take a' Arepa\", franchises = arepas_place)",
      "metadata": {
        "trusted": true
      },
      "execution_count": 9,
      "outputs": []
    },
    {
      "cell_type": "code",
      "source": "# Testing Business Class\nprint(basta.franchises)\nprint(basta.franchises.menus)",
      "metadata": {
        "trusted": true
      },
      "execution_count": 10,
      "outputs": [
        {
          "name": "stdout",
          "text": "The address is at 189 Fitzgerald Avenue.\nTake a' Arepa is available from 1000 to 2000\n",
          "output_type": "stream"
        }
      ]
    },
    {
      "cell_type": "code",
      "source": "",
      "metadata": {},
      "execution_count": null,
      "outputs": []
    }
  ]
}